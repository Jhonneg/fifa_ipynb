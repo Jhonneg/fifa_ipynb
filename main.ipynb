{
 "cells": [
  {
   "cell_type": "code",
   "execution_count": 1,
   "metadata": {},
   "outputs": [
    {
     "data": {
      "text/plain": [
       "(17660, 29)"
      ]
     },
     "execution_count": 1,
     "metadata": {},
     "output_type": "execute_result"
    }
   ],
   "source": [
    "import pandas as pd\n",
    "data_frame = pd.read_csv(\"data.csv\")\n",
    "data_frame.shape"
   ]
  },
  {
   "cell_type": "code",
   "execution_count": 2,
   "metadata": {},
   "outputs": [
    {
     "data": {
      "text/html": [
       "<div>\n",
       "<style scoped>\n",
       "    .dataframe tbody tr th:only-of-type {\n",
       "        vertical-align: middle;\n",
       "    }\n",
       "\n",
       "    .dataframe tbody tr th {\n",
       "        vertical-align: top;\n",
       "    }\n",
       "\n",
       "    .dataframe thead th {\n",
       "        text-align: right;\n",
       "    }\n",
       "</style>\n",
       "<table border=\"1\" class=\"dataframe\">\n",
       "  <thead>\n",
       "    <tr style=\"text-align: right;\">\n",
       "      <th></th>\n",
       "      <th>ID</th>\n",
       "      <th>Age</th>\n",
       "      <th>Overall</th>\n",
       "      <th>Potential</th>\n",
       "      <th>Special</th>\n",
       "      <th>International Reputation</th>\n",
       "      <th>Weak Foot</th>\n",
       "      <th>Skill Moves</th>\n",
       "      <th>Kit Number</th>\n",
       "    </tr>\n",
       "  </thead>\n",
       "  <tbody>\n",
       "    <tr>\n",
       "      <th>count</th>\n",
       "      <td>17660.000000</td>\n",
       "      <td>17660.000000</td>\n",
       "      <td>17660.000000</td>\n",
       "      <td>17660.000000</td>\n",
       "      <td>17660.000000</td>\n",
       "      <td>17660.000000</td>\n",
       "      <td>17660.000000</td>\n",
       "      <td>17660.000000</td>\n",
       "      <td>17625.000000</td>\n",
       "    </tr>\n",
       "    <tr>\n",
       "      <th>mean</th>\n",
       "      <td>246319.424462</td>\n",
       "      <td>23.127746</td>\n",
       "      <td>63.369592</td>\n",
       "      <td>70.981200</td>\n",
       "      <td>1537.915855</td>\n",
       "      <td>1.106285</td>\n",
       "      <td>2.900340</td>\n",
       "      <td>2.297169</td>\n",
       "      <td>25.037957</td>\n",
       "    </tr>\n",
       "    <tr>\n",
       "      <th>std</th>\n",
       "      <td>31487.892861</td>\n",
       "      <td>4.639821</td>\n",
       "      <td>8.036268</td>\n",
       "      <td>6.529836</td>\n",
       "      <td>285.893809</td>\n",
       "      <td>0.407021</td>\n",
       "      <td>0.663523</td>\n",
       "      <td>0.754264</td>\n",
       "      <td>19.154116</td>\n",
       "    </tr>\n",
       "    <tr>\n",
       "      <th>min</th>\n",
       "      <td>16.000000</td>\n",
       "      <td>15.000000</td>\n",
       "      <td>43.000000</td>\n",
       "      <td>42.000000</td>\n",
       "      <td>749.000000</td>\n",
       "      <td>1.000000</td>\n",
       "      <td>1.000000</td>\n",
       "      <td>1.000000</td>\n",
       "      <td>1.000000</td>\n",
       "    </tr>\n",
       "    <tr>\n",
       "      <th>25%</th>\n",
       "      <td>240732.500000</td>\n",
       "      <td>20.000000</td>\n",
       "      <td>58.000000</td>\n",
       "      <td>67.000000</td>\n",
       "      <td>1387.000000</td>\n",
       "      <td>1.000000</td>\n",
       "      <td>3.000000</td>\n",
       "      <td>2.000000</td>\n",
       "      <td>11.000000</td>\n",
       "    </tr>\n",
       "    <tr>\n",
       "      <th>50%</th>\n",
       "      <td>257041.000000</td>\n",
       "      <td>22.000000</td>\n",
       "      <td>63.000000</td>\n",
       "      <td>71.000000</td>\n",
       "      <td>1548.000000</td>\n",
       "      <td>1.000000</td>\n",
       "      <td>3.000000</td>\n",
       "      <td>2.000000</td>\n",
       "      <td>22.000000</td>\n",
       "    </tr>\n",
       "    <tr>\n",
       "      <th>75%</th>\n",
       "      <td>263027.500000</td>\n",
       "      <td>26.000000</td>\n",
       "      <td>69.000000</td>\n",
       "      <td>75.000000</td>\n",
       "      <td>1727.000000</td>\n",
       "      <td>1.000000</td>\n",
       "      <td>3.000000</td>\n",
       "      <td>3.000000</td>\n",
       "      <td>32.000000</td>\n",
       "    </tr>\n",
       "    <tr>\n",
       "      <th>max</th>\n",
       "      <td>271340.000000</td>\n",
       "      <td>54.000000</td>\n",
       "      <td>91.000000</td>\n",
       "      <td>95.000000</td>\n",
       "      <td>2312.000000</td>\n",
       "      <td>5.000000</td>\n",
       "      <td>5.000000</td>\n",
       "      <td>5.000000</td>\n",
       "      <td>99.000000</td>\n",
       "    </tr>\n",
       "  </tbody>\n",
       "</table>\n",
       "</div>"
      ],
      "text/plain": [
       "                  ID           Age       Overall     Potential       Special  \\\n",
       "count   17660.000000  17660.000000  17660.000000  17660.000000  17660.000000   \n",
       "mean   246319.424462     23.127746     63.369592     70.981200   1537.915855   \n",
       "std     31487.892861      4.639821      8.036268      6.529836    285.893809   \n",
       "min        16.000000     15.000000     43.000000     42.000000    749.000000   \n",
       "25%    240732.500000     20.000000     58.000000     67.000000   1387.000000   \n",
       "50%    257041.000000     22.000000     63.000000     71.000000   1548.000000   \n",
       "75%    263027.500000     26.000000     69.000000     75.000000   1727.000000   \n",
       "max    271340.000000     54.000000     91.000000     95.000000   2312.000000   \n",
       "\n",
       "       International Reputation     Weak Foot   Skill Moves    Kit Number  \n",
       "count              17660.000000  17660.000000  17660.000000  17625.000000  \n",
       "mean                   1.106285      2.900340      2.297169     25.037957  \n",
       "std                    0.407021      0.663523      0.754264     19.154116  \n",
       "min                    1.000000      1.000000      1.000000      1.000000  \n",
       "25%                    1.000000      3.000000      2.000000     11.000000  \n",
       "50%                    1.000000      3.000000      2.000000     22.000000  \n",
       "75%                    1.000000      3.000000      3.000000     32.000000  \n",
       "max                    5.000000      5.000000      5.000000     99.000000  "
      ]
     },
     "execution_count": 2,
     "metadata": {},
     "output_type": "execute_result"
    }
   ],
   "source": [
    "data_frame.describe()"
   ]
  },
  {
   "cell_type": "code",
   "execution_count": 3,
   "metadata": {},
   "outputs": [
    {
     "data": {
      "text/plain": [
       "array([[209658, 'L. Goretzka', 27, ..., '€157M', 8.0, nan],\n",
       "       [212198, 'Bruno Fernandes', 27, ..., '€155M', 8.0, nan],\n",
       "       [224334, 'M. Acuña', 30, ..., '€97.7M', 19.0, nan],\n",
       "       ...,\n",
       "       [270567, 'A. Demir', 25, ..., '€142K', 12.0, nan],\n",
       "       [256624, '21\\xa0S. Czajor', 18, ..., '€214K', 40.0, nan],\n",
       "       [256376, '21\\xa0F. Jakobsson', 20, ..., '€131K', 30.0, nan]],\n",
       "      dtype=object)"
      ]
     },
     "execution_count": 3,
     "metadata": {},
     "output_type": "execute_result"
    }
   ],
   "source": [
    "data_frame.values"
   ]
  },
  {
   "cell_type": "code",
   "execution_count": 4,
   "metadata": {},
   "outputs": [
    {
     "data": {
      "text/html": [
       "<div>\n",
       "<style scoped>\n",
       "    .dataframe tbody tr th:only-of-type {\n",
       "        vertical-align: middle;\n",
       "    }\n",
       "\n",
       "    .dataframe tbody tr th {\n",
       "        vertical-align: top;\n",
       "    }\n",
       "\n",
       "    .dataframe thead th {\n",
       "        text-align: right;\n",
       "    }\n",
       "</style>\n",
       "<table border=\"1\" class=\"dataframe\">\n",
       "  <thead>\n",
       "    <tr style=\"text-align: right;\">\n",
       "      <th></th>\n",
       "      <th>Name</th>\n",
       "      <th>Wage</th>\n",
       "      <th>Value</th>\n",
       "      <th>difference</th>\n",
       "    </tr>\n",
       "  </thead>\n",
       "  <tbody>\n",
       "    <tr>\n",
       "      <th>75</th>\n",
       "      <td>K. Mbappé</td>\n",
       "      <td>230000.0</td>\n",
       "      <td>190500000.0</td>\n",
       "      <td>190270000.0</td>\n",
       "    </tr>\n",
       "    <tr>\n",
       "      <th>180</th>\n",
       "      <td>E. Haaland</td>\n",
       "      <td>220000.0</td>\n",
       "      <td>148000000.0</td>\n",
       "      <td>147780000.0</td>\n",
       "    </tr>\n",
       "    <tr>\n",
       "      <th>17</th>\n",
       "      <td>F. de Jong</td>\n",
       "      <td>230000.0</td>\n",
       "      <td>116500000.0</td>\n",
       "      <td>116270000.0</td>\n",
       "    </tr>\n",
       "    <tr>\n",
       "      <th>214</th>\n",
       "      <td>Pedri</td>\n",
       "      <td>115000.0</td>\n",
       "      <td>116000000.0</td>\n",
       "      <td>115885000.0</td>\n",
       "    </tr>\n",
       "    <tr>\n",
       "      <th>25</th>\n",
       "      <td>M. Salah</td>\n",
       "      <td>270000.0</td>\n",
       "      <td>115500000.0</td>\n",
       "      <td>115230000.0</td>\n",
       "    </tr>\n",
       "    <tr>\n",
       "      <th>...</th>\n",
       "      <td>...</td>\n",
       "      <td>...</td>\n",
       "      <td>...</td>\n",
       "      <td>...</td>\n",
       "    </tr>\n",
       "    <tr>\n",
       "      <th>8455</th>\n",
       "      <td>14 Índio</td>\n",
       "      <td>20000.0</td>\n",
       "      <td>0.0</td>\n",
       "      <td>-20000.0</td>\n",
       "    </tr>\n",
       "    <tr>\n",
       "      <th>2031</th>\n",
       "      <td>14 J. Zanetti</td>\n",
       "      <td>45000.0</td>\n",
       "      <td>1000.0</td>\n",
       "      <td>-44000.0</td>\n",
       "    </tr>\n",
       "    <tr>\n",
       "      <th>199</th>\n",
       "      <td>R. Kent</td>\n",
       "      <td>45000.0</td>\n",
       "      <td>0.0</td>\n",
       "      <td>-45000.0</td>\n",
       "    </tr>\n",
       "    <tr>\n",
       "      <th>1287</th>\n",
       "      <td>14 R. Giggs</td>\n",
       "      <td>60000.0</td>\n",
       "      <td>1000.0</td>\n",
       "      <td>-59000.0</td>\n",
       "    </tr>\n",
       "    <tr>\n",
       "      <th>997</th>\n",
       "      <td>Z. Ibrahimović</td>\n",
       "      <td>63000.0</td>\n",
       "      <td>0.0</td>\n",
       "      <td>-63000.0</td>\n",
       "    </tr>\n",
       "  </tbody>\n",
       "</table>\n",
       "<p>17660 rows × 4 columns</p>\n",
       "</div>"
      ],
      "text/plain": [
       "                Name      Wage        Value   difference\n",
       "75         K. Mbappé  230000.0  190500000.0  190270000.0\n",
       "180       E. Haaland  220000.0  148000000.0  147780000.0\n",
       "17        F. de Jong  230000.0  116500000.0  116270000.0\n",
       "214            Pedri  115000.0  116000000.0  115885000.0\n",
       "25          M. Salah  270000.0  115500000.0  115230000.0\n",
       "...              ...       ...          ...          ...\n",
       "8455        14 Índio   20000.0          0.0     -20000.0\n",
       "2031   14 J. Zanetti   45000.0       1000.0     -44000.0\n",
       "199          R. Kent   45000.0          0.0     -45000.0\n",
       "1287     14 R. Giggs   60000.0       1000.0     -59000.0\n",
       "997   Z. Ibrahimović   63000.0          0.0     -63000.0\n",
       "\n",
       "[17660 rows x 4 columns]"
      ]
     },
     "execution_count": 4,
     "metadata": {},
     "output_type": "execute_result"
    }
   ],
   "source": [
    "df1 = pd.DataFrame(data_frame, columns=[\"Name\", \"Wage\", \"Value\"])\n",
    "\n",
    "def value_to_float(x):\n",
    "    if type(x) is float or type(x) is int:\n",
    "        return x\n",
    "    if 'K' in x:\n",
    "        if len(x) > 1:\n",
    "            return float(x.replace('K', '')) * 1000\n",
    "        return 1000.0\n",
    "    if 'M' in x:\n",
    "        if len(x) > 1:\n",
    "            return float(x.replace('M', '')) * 1000000\n",
    "        return 1000000.0\n",
    "    if 'B' in x:\n",
    "        return float(x.replace('B', '')) * 1000000000\n",
    "    return 0.0\n",
    "\n",
    "wage = df1[\"Wage\"].replace(\"[\\€]\", \"\", regex=True).apply(value_to_float)\n",
    "value = df1[\"Value\"].replace(\"[\\€]\", \"\", regex=True).apply(value_to_float)\n",
    "\n",
    "df1[\"Wage\"] = wage\n",
    "df1[\"Value\"] = value\n",
    "\n",
    "df1[\"difference\"] = df1[\"Value\"] - df1[\"Wage\"]\n",
    "df1.sort_values(\"difference\", ascending=False)"
   ]
  },
  {
   "cell_type": "code",
   "execution_count": 5,
   "metadata": {},
   "outputs": [
    {
     "data": {
      "text/plain": [
       "<Axes: xlabel='Wage', ylabel='Value'>"
      ]
     },
     "execution_count": 5,
     "metadata": {},
     "output_type": "execute_result"
    },
    {
     "data": {
      "image/png": "[encoded data removed]",
      "text/plain": [
       "<Figure size 640x480 with 1 Axes>"
      ]
     },
     "metadata": {},
     "output_type": "display_data"
    }
   ],
   "source": [
    "import seaborn as sns\n",
    "sns.set_theme()\n",
    "\n",
    "graph = sns.scatterplot(x=\"Wage\", y=\"Value\", data = df1)\n",
    "graph"
   ]
  },
  {
   "cell_type": "code",
   "execution_count": 6,
   "metadata": {},
   "outputs": [
    {
     "name": "stdout",
     "output_type": "stream",
     "text": [
      "Opening in existing browser session.\n"
     ]
    }
   ],
   "source": [
    "from bokeh.plotting import figure, show\n",
    "from bokeh.models import HoverTool\n",
    "\n",
    "\n",
    "TOOLTIPS = HoverTool(tooltips=[(\"index\",\"$index\"),(\"(Wage,Value)\", \"(@Wage,@Value)\"), (\"Name\",\"@Name\")])\n",
    "\n",
    "p = figure(title=\"Fifa 2023\", x_axis_label=\"Wage\",y_axis_label=\"Value\", tools=[TOOLTIPS])\n",
    "p.scatter(\"Wage\", \"Value\", size=10, source=df1)\n",
    "show(p)\n"
   ]
  }
 ],
 "metadata": {
  "kernelspec": {
   "display_name": "base",
   "language": "python",
   "name": "python3"
  },
  "language_info": {
   "codemirror_mode": {
    "name": "ipython",
    "version": 3
   },
   "file_extension": ".py",
   "mimetype": "text/x-python",
   "name": "python",
   "nbconvert_exporter": "python",
   "pygments_lexer": "ipython3",
   "version": "3.12.7"
  }
 },
 "nbformat": 4,
 "nbformat_minor": 2
}
